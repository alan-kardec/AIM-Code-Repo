{
  "nbformat": 4,
  "nbformat_minor": 0,
  "metadata": {
    "colab": {
      "name": "Gaussian Mix Modelling Clustering.ipynb",
      "provenance": []
    },
    "kernelspec": {
      "name": "python3",
      "display_name": "Python 3"
    }
  },
  "cells": [
    {
      "cell_type": "code",
      "metadata": {
        "id": "st4sAk8KsrSJ",
        "outputId": "47a44fe1-7648-4730-d08c-0a6ec1d151d0",
        "colab": {
          "base_uri": "https://localhost:8080/"
        }
      },
      "source": [
        "# Mounting drive\n",
        "from google.colab import drive\n",
        "drive.mount('/content/drive')"
      ],
      "execution_count": 1,
      "outputs": [
        {
          "output_type": "stream",
          "text": [
            "Mounted at /content/drive\n"
          ],
          "name": "stdout"
        }
      ]
    },
    {
      "cell_type": "code",
      "metadata": {
        "id": "t2XYJobE5v7X"
      },
      "source": [
        "#Path to directory\n",
        "import os\n",
        "os.chdir('/content/drive/My Drive/Analytics India')"
      ],
      "execution_count": 2,
      "outputs": []
    },
    {
      "cell_type": "code",
      "metadata": {
        "id": "DenTcjhr6FTI"
      },
      "source": [
        "# import some libraries\n",
        "import numpy as np\n",
        "import pandas as pd\n",
        "import matplotlib as mpl\n",
        "import matplotlib.pyplot as plt\n",
        "\n",
        "import seaborn as sns\n",
        "sns.set(style=\"white\", color_codes=True)\n",
        "import warnings\n",
        "warnings.filterwarnings(\"ignore\")\n",
        "\n",
        "# show plots inline\n",
        "%matplotlib inline"
      ],
      "execution_count": 3,
      "outputs": []
    },
    {
      "cell_type": "code",
      "metadata": {
        "id": "k0-QQoyj6Qm-",
        "outputId": "757ca024-840c-461f-a897-31c66ec5e2a3",
        "colab": {
          "base_uri": "https://localhost:8080/",
          "height": 200
        }
      },
      "source": [
        "data = pd.read_csv('Iris.csv')\n",
        "data = data.drop('Id', axis=1)\n",
        "data.sample(5)\n"
      ],
      "execution_count": 4,
      "outputs": [
        {
          "output_type": "execute_result",
          "data": {
            "text/html": [
              "<div>\n",
              "<style scoped>\n",
              "    .dataframe tbody tr th:only-of-type {\n",
              "        vertical-align: middle;\n",
              "    }\n",
              "\n",
              "    .dataframe tbody tr th {\n",
              "        vertical-align: top;\n",
              "    }\n",
              "\n",
              "    .dataframe thead th {\n",
              "        text-align: right;\n",
              "    }\n",
              "</style>\n",
              "<table border=\"1\" class=\"dataframe\">\n",
              "  <thead>\n",
              "    <tr style=\"text-align: right;\">\n",
              "      <th></th>\n",
              "      <th>SepalLengthCm</th>\n",
              "      <th>SepalWidthCm</th>\n",
              "      <th>PetalLengthCm</th>\n",
              "      <th>PetalWidthCm</th>\n",
              "      <th>Species</th>\n",
              "    </tr>\n",
              "  </thead>\n",
              "  <tbody>\n",
              "    <tr>\n",
              "      <th>90</th>\n",
              "      <td>5.5</td>\n",
              "      <td>2.6</td>\n",
              "      <td>4.4</td>\n",
              "      <td>1.2</td>\n",
              "      <td>Iris-versicolor</td>\n",
              "    </tr>\n",
              "    <tr>\n",
              "      <th>109</th>\n",
              "      <td>7.2</td>\n",
              "      <td>3.6</td>\n",
              "      <td>6.1</td>\n",
              "      <td>2.5</td>\n",
              "      <td>Iris-virginica</td>\n",
              "    </tr>\n",
              "    <tr>\n",
              "      <th>80</th>\n",
              "      <td>5.5</td>\n",
              "      <td>2.4</td>\n",
              "      <td>3.8</td>\n",
              "      <td>1.1</td>\n",
              "      <td>Iris-versicolor</td>\n",
              "    </tr>\n",
              "    <tr>\n",
              "      <th>30</th>\n",
              "      <td>4.8</td>\n",
              "      <td>3.1</td>\n",
              "      <td>1.6</td>\n",
              "      <td>0.2</td>\n",
              "      <td>Iris-setosa</td>\n",
              "    </tr>\n",
              "    <tr>\n",
              "      <th>147</th>\n",
              "      <td>6.5</td>\n",
              "      <td>3.0</td>\n",
              "      <td>5.2</td>\n",
              "      <td>2.0</td>\n",
              "      <td>Iris-virginica</td>\n",
              "    </tr>\n",
              "  </tbody>\n",
              "</table>\n",
              "</div>"
            ],
            "text/plain": [
              "     SepalLengthCm  SepalWidthCm  PetalLengthCm  PetalWidthCm          Species\n",
              "90             5.5           2.6            4.4           1.2  Iris-versicolor\n",
              "109            7.2           3.6            6.1           2.5   Iris-virginica\n",
              "80             5.5           2.4            3.8           1.1  Iris-versicolor\n",
              "30             4.8           3.1            1.6           0.2      Iris-setosa\n",
              "147            6.5           3.0            5.2           2.0   Iris-virginica"
            ]
          },
          "metadata": {
            "tags": []
          },
          "execution_count": 4
        }
      ]
    },
    {
      "cell_type": "code",
      "metadata": {
        "id": "lQgdYCOw6be0"
      },
      "source": [
        "X = data.iloc[:,0:4]\n",
        "y = data.iloc[:,-1]"
      ],
      "execution_count": 5,
      "outputs": []
    },
    {
      "cell_type": "code",
      "metadata": {
        "id": "XJlyil-h6v9f",
        "outputId": "88a2219c-9f08-4678-f311-c8e15b374019",
        "colab": {
          "base_uri": "https://localhost:8080/",
          "height": 200
        }
      },
      "source": [
        "from sklearn import preprocessing\n",
        "\n",
        "scaler = preprocessing.StandardScaler()\n",
        "\n",
        "scaler.fit(X)\n",
        "X_scaled_array = scaler.transform(X)\n",
        "X_scaled = pd.DataFrame(X_scaled_array, columns = X.columns)\n",
        "\n",
        "X_scaled.sample(5)"
      ],
      "execution_count": 8,
      "outputs": [
        {
          "output_type": "execute_result",
          "data": {
            "text/html": [
              "<div>\n",
              "<style scoped>\n",
              "    .dataframe tbody tr th:only-of-type {\n",
              "        vertical-align: middle;\n",
              "    }\n",
              "\n",
              "    .dataframe tbody tr th {\n",
              "        vertical-align: top;\n",
              "    }\n",
              "\n",
              "    .dataframe thead th {\n",
              "        text-align: right;\n",
              "    }\n",
              "</style>\n",
              "<table border=\"1\" class=\"dataframe\">\n",
              "  <thead>\n",
              "    <tr style=\"text-align: right;\">\n",
              "      <th></th>\n",
              "      <th>SepalLengthCm</th>\n",
              "      <th>SepalWidthCm</th>\n",
              "      <th>PetalLengthCm</th>\n",
              "      <th>PetalWidthCm</th>\n",
              "    </tr>\n",
              "  </thead>\n",
              "  <tbody>\n",
              "    <tr>\n",
              "      <th>10</th>\n",
              "      <td>-0.537178</td>\n",
              "      <td>1.494863</td>\n",
              "      <td>-1.284407</td>\n",
              "      <td>-1.312977</td>\n",
              "    </tr>\n",
              "    <tr>\n",
              "      <th>64</th>\n",
              "      <td>-0.294842</td>\n",
              "      <td>-0.356361</td>\n",
              "      <td>-0.090227</td>\n",
              "      <td>0.133226</td>\n",
              "    </tr>\n",
              "    <tr>\n",
              "      <th>77</th>\n",
              "      <td>1.038005</td>\n",
              "      <td>-0.124958</td>\n",
              "      <td>0.705893</td>\n",
              "      <td>0.659118</td>\n",
              "    </tr>\n",
              "    <tr>\n",
              "      <th>89</th>\n",
              "      <td>-0.416010</td>\n",
              "      <td>-1.281972</td>\n",
              "      <td>0.137236</td>\n",
              "      <td>0.133226</td>\n",
              "    </tr>\n",
              "    <tr>\n",
              "      <th>26</th>\n",
              "      <td>-1.021849</td>\n",
              "      <td>0.800654</td>\n",
              "      <td>-1.227541</td>\n",
              "      <td>-1.050031</td>\n",
              "    </tr>\n",
              "  </tbody>\n",
              "</table>\n",
              "</div>"
            ],
            "text/plain": [
              "    SepalLengthCm  SepalWidthCm  PetalLengthCm  PetalWidthCm\n",
              "10      -0.537178      1.494863      -1.284407     -1.312977\n",
              "64      -0.294842     -0.356361      -0.090227      0.133226\n",
              "77       1.038005     -0.124958       0.705893      0.659118\n",
              "89      -0.416010     -1.281972       0.137236      0.133226\n",
              "26      -1.021849      0.800654      -1.227541     -1.050031"
            ]
          },
          "metadata": {
            "tags": []
          },
          "execution_count": 8
        }
      ]
    },
    {
      "cell_type": "markdown",
      "metadata": {
        "id": "hyhx7JNUMR8l"
      },
      "source": [
        "**K Means Clustering**"
      ]
    },
    {
      "cell_type": "code",
      "metadata": {
        "id": "68QgNTgw64xF",
        "outputId": "35fb87b7-4fa1-4eba-ed1d-527dc30ed0ae",
        "colab": {
          "base_uri": "https://localhost:8080/"
        }
      },
      "source": [
        "from sklearn.cluster import KMeans\n",
        "\n",
        "nclusters = 3 # this is the k in kmeans\n",
        "seed = 0\n",
        "\n",
        "km = KMeans(n_clusters=nclusters, random_state=seed)\n",
        "km.fit(X_scaled)\n",
        "\n",
        "# predict the cluster for each data point\n",
        "y_cluster_kmeans = km.predict(X_scaled)\n",
        "y_cluster_kmeans"
      ],
      "execution_count": 9,
      "outputs": [
        {
          "output_type": "execute_result",
          "data": {
            "text/plain": [
              "array([1, 1, 1, 1, 1, 1, 1, 1, 1, 1, 1, 1, 1, 1, 1, 1, 1, 1, 1, 1, 1, 1,\n",
              "       1, 1, 1, 1, 1, 1, 1, 1, 1, 1, 1, 1, 1, 1, 1, 1, 1, 1, 1, 1, 1, 1,\n",
              "       1, 1, 1, 1, 1, 1, 0, 0, 0, 2, 2, 2, 0, 2, 2, 2, 2, 2, 2, 2, 2, 0,\n",
              "       2, 2, 2, 2, 0, 2, 2, 2, 2, 0, 0, 0, 2, 2, 2, 2, 2, 2, 2, 0, 0, 2,\n",
              "       2, 2, 2, 2, 2, 2, 2, 2, 2, 2, 2, 2, 0, 2, 0, 0, 0, 0, 2, 0, 0, 0,\n",
              "       0, 0, 0, 2, 2, 0, 0, 0, 0, 2, 0, 2, 0, 2, 0, 0, 2, 0, 0, 0, 0, 0,\n",
              "       0, 2, 2, 0, 0, 0, 2, 0, 0, 0, 2, 0, 0, 0, 2, 0, 0, 2], dtype=int32)"
            ]
          },
          "metadata": {
            "tags": []
          },
          "execution_count": 9
        }
      ]
    },
    {
      "cell_type": "code",
      "metadata": {
        "id": "h5TQZIgVE9Co",
        "outputId": "4c72fa90-77aa-4449-ccf4-e5c0050517fb",
        "colab": {
          "base_uri": "https://localhost:8080/",
          "height": 285
        }
      },
      "source": [
        "import matplotlib.patches as mpatches\n",
        "red_patch = mpatches.Patch(color='red', label='Setosa')\n",
        "green_patch = mpatches.Patch(color='green', label='Versicolor')\n",
        "blue_patch = mpatches.Patch(color='blue', label='Virginica')\n",
        "colors = np.array(['blue', 'red', 'green'])\n",
        "plt.scatter(X_scaled.iloc[:, 2],X_scaled.iloc[:, 3],c=colors[y_cluster_kmeans])\n",
        "plt.xlabel(\"PetalLengthCm\")\n",
        "plt.ylabel(\"PetalWidthCm\")\n",
        "plt.legend(handles=[red_patch, green_patch, blue_patch])\n",
        "plt.show()\n"
      ],
      "execution_count": 57,
      "outputs": [
        {
          "output_type": "display_data",
          "data": {
            "image/png": "[encoded data removed]",
            "text/plain": [
              "<Figure size 432x288 with 1 Axes>"
            ]
          },
          "metadata": {
            "tags": [],
            "needs_background": "light"
          }
        }
      ]
    },
    {
      "cell_type": "code",
      "metadata": {
        "id": "My9wDZpO68-L",
        "outputId": "72a70463-476f-40a7-8c95-54d10c4307ac",
        "colab": {
          "base_uri": "https://localhost:8080/"
        }
      },
      "source": [
        "from sklearn import metrics\n",
        "score = metrics.silhouette_score(X_scaled, y_cluster_kmeans)\n",
        "score"
      ],
      "execution_count": 10,
      "outputs": [
        {
          "output_type": "execute_result",
          "data": {
            "text/plain": [
              "0.4589717867018717"
            ]
          },
          "metadata": {
            "tags": []
          },
          "execution_count": 10
        }
      ]
    },
    {
      "cell_type": "code",
      "metadata": {
        "id": "S6EmLbBW7M8y",
        "outputId": "5580c9d9-53ed-4c25-e82b-4f2148f8889d",
        "colab": {
          "base_uri": "https://localhost:8080/",
          "height": 271
        }
      },
      "source": [
        "scores = metrics.silhouette_samples(X_scaled, y_cluster_kmeans)\n",
        "sns.distplot(scores);"
      ],
      "execution_count": 11,
      "outputs": [
        {
          "output_type": "display_data",
          "data": {
            "image/png": "[encoded data removed]",
            "text/plain": [
              "<Figure size 432x288 with 1 Axes>"
            ]
          },
          "metadata": {
            "tags": [],
            "needs_background": "light"
          }
        }
      ]
    },
    {
      "cell_type": "code",
      "metadata": {
        "id": "VUPhxf_SMELR",
        "outputId": "e5c4908a-37a8-43c5-babb-b74983aaf265",
        "colab": {
          "base_uri": "https://localhost:8080/"
        }
      },
      "source": [
        "from sklearn.metrics.cluster import adjusted_rand_score\n",
        "\n",
        "# first let's see how the k-means clustering did - \n",
        "score = adjusted_rand_score(y, y_cluster_kmeans)\n",
        "score"
      ],
      "execution_count": 58,
      "outputs": [
        {
          "output_type": "execute_result",
          "data": {
            "text/plain": [
              "0.6201351808870379"
            ]
          },
          "metadata": {
            "tags": []
          },
          "execution_count": 58
        }
      ]
    },
    {
      "cell_type": "markdown",
      "metadata": {
        "id": "sdhWh1q87v7U"
      },
      "source": [
        "**Gaussian Mix Modelling**"
      ]
    },
    {
      "cell_type": "code",
      "metadata": {
        "id": "vCFeOu-X72AQ",
        "outputId": "5a831a66-ad1d-4022-8856-238a7bb3be3b",
        "colab": {
          "base_uri": "https://localhost:8080/"
        }
      },
      "source": [
        "from sklearn.mixture import GaussianMixture\n",
        "\n",
        "gmm = GaussianMixture(n_components=nclusters)\n",
        "gmm.fit(X_scaled)\n",
        "\n",
        "# predict the cluster for each data point\n",
        "y_cluster_gmm = gmm.predict(X_scaled)\n",
        "y_cluster_gmm"
      ],
      "execution_count": 14,
      "outputs": [
        {
          "output_type": "execute_result",
          "data": {
            "text/plain": [
              "array([1, 1, 1, 1, 1, 1, 1, 1, 1, 1, 1, 1, 1, 1, 1, 1, 1, 1, 1, 1, 1, 1,\n",
              "       1, 1, 1, 1, 1, 1, 1, 1, 1, 1, 1, 1, 1, 1, 1, 1, 1, 1, 1, 1, 1, 1,\n",
              "       1, 1, 1, 1, 1, 1, 2, 2, 2, 2, 2, 2, 2, 2, 2, 2, 2, 2, 2, 2, 2, 2,\n",
              "       2, 2, 0, 2, 0, 2, 0, 2, 2, 2, 2, 0, 2, 2, 2, 2, 2, 0, 2, 2, 2, 2,\n",
              "       2, 2, 2, 2, 2, 2, 2, 2, 2, 2, 2, 2, 0, 0, 0, 0, 0, 0, 0, 0, 0, 0,\n",
              "       0, 0, 0, 0, 0, 0, 0, 0, 0, 0, 0, 0, 0, 0, 0, 0, 0, 0, 0, 0, 0, 0,\n",
              "       0, 0, 0, 0, 0, 0, 0, 0, 0, 0, 0, 0, 0, 0, 0, 0, 0, 0])"
            ]
          },
          "metadata": {
            "tags": []
          },
          "execution_count": 14
        }
      ]
    },
    {
      "cell_type": "code",
      "metadata": {
        "id": "iSLhOyoqAH4D",
        "outputId": "2788983d-5a5f-4ca7-cec8-baa1218a853f",
        "colab": {
          "base_uri": "https://localhost:8080/",
          "height": 285
        }
      },
      "source": [
        "red_patch = mpatches.Patch(color='red', label='Setosa')\n",
        "green_patch = mpatches.Patch(color='green', label='Versicolor')\n",
        "blue_patch = mpatches.Patch(color='blue', label='Virginica')\n",
        "colors = np.array(['blue', 'red', 'green'])\n",
        "plt.scatter(X_scaled.iloc[:, 2],X_scaled.iloc[:, 3],c=colors[y_cluster_gmm])\n",
        "plt.xlabel(\"PetalLengthCm\")\n",
        "plt.ylabel(\"PetalWidthCm\")\n",
        "plt.legend(handles=[red_patch, green_patch, blue_patch])\n",
        "plt.show()"
      ],
      "execution_count": 54,
      "outputs": [
        {
          "output_type": "display_data",
          "data": {
            "image/png": "[encoded data removed]",
            "text/plain": [
              "<Figure size 432x288 with 1 Axes>"
            ]
          },
          "metadata": {
            "tags": [],
            "needs_background": "light"
          }
        }
      ]
    },
    {
      "cell_type": "code",
      "metadata": {
        "id": "i4nIUxy4U6E7",
        "outputId": "ce767e55-88db-46a4-8bf0-390a73e65ddb",
        "colab": {
          "base_uri": "https://localhost:8080/"
        }
      },
      "source": [
        "from sklearn import metrics\n",
        "score = metrics.silhouette_score(X_scaled, y_cluster_gmm)\n",
        "score"
      ],
      "execution_count": 60,
      "outputs": [
        {
          "output_type": "execute_result",
          "data": {
            "text/plain": [
              "0.5482325265898733"
            ]
          },
          "metadata": {
            "tags": []
          },
          "execution_count": 60
        }
      ]
    },
    {
      "cell_type": "code",
      "metadata": {
        "id": "jHsF5wGZMJLU",
        "outputId": "bec4cfd0-857b-454d-a0c0-b2ecb6733202",
        "colab": {
          "base_uri": "https://localhost:8080/"
        }
      },
      "source": [
        "from sklearn.metrics.cluster import adjusted_rand_score\n",
        "\n",
        "# first let's see how the k-means clustering did - \n",
        "score = adjusted_rand_score(y, y_cluster_gmm)\n",
        "score"
      ],
      "execution_count": 59,
      "outputs": [
        {
          "output_type": "execute_result",
          "data": {
            "text/plain": [
              "0.9038742317748124"
            ]
          },
          "metadata": {
            "tags": []
          },
          "execution_count": 59
        }
      ]
    }
  ]
}