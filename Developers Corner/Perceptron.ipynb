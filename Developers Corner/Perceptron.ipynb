{
  "nbformat": 4,
  "nbformat_minor": 0,
  "metadata": {
    "colab": {
      "name": "Perceptron.ipynb",
      "provenance": []
    },
    "kernelspec": {
      "name": "python3",
      "display_name": "Python 3"
    }
  },
  "cells": [
    {
      "cell_type": "code",
      "metadata": {
        "id": "qSHDSmNJy5Fj"
      },
      "source": [
        "import numpy as np\n",
        "\n",
        "class Perceptron(object):\n",
        "  def __init__(self, learning_rate=0.01, n_iters=10, random_state=1):\n",
        "    self.learning_rate = learning_rate\n",
        "    self.n_iters = n_iters\n",
        "    self.random_state = random_state\n",
        "    \n",
        "  def fit(self, X, y):\n",
        "    rand = np.random.RandomState(self.random_state)\n",
        "    self.weights = rand.normal(loc=0.0, scale=0.01, size=1 + X.shape[1])\n",
        "    self.errors_ = []\n",
        "\n",
        "    for _ in range(self.n_iters):\n",
        "      errors = 0\n",
        "      for x, target in zip(X, y):\n",
        "        update = self.learning_rate * (target - self.predict(x))\n",
        "        self.weights[1:] += update * x\n",
        "        self.weights[0] += update\n",
        "        errors += int(update != 0.0)\n",
        "        self.errors_.append(errors)\n",
        "      return self\n",
        "\n",
        "  def net_input(self, X):\n",
        "    summ = np.dot(X, self.weights[1:]) + self.weights[0]\n",
        "    return summ\n",
        "\n",
        "  def predict(self, X):\n",
        "    return np.where(self.net_input(X) >= 0, 1, -1)"
      ],
      "execution_count": null,
      "outputs": []
    },
    {
      "cell_type": "code",
      "metadata": {
        "id": "2as3zgkI_fZN"
      },
      "source": [
        "from sklearn.datasets import load_iris\n",
        "X,y = load_iris(return_X_y=True)"
      ],
      "execution_count": null,
      "outputs": []
    },
    {
      "cell_type": "code",
      "metadata": {
        "id": "-Jp6Yj4n_jWm",
        "outputId": "71e4d8e5-935b-4d47-9f0c-70f07cbafa17",
        "colab": {
          "base_uri": "https://localhost:8080/",
          "height": 282
        }
      },
      "source": [
        "import matplotlib.pyplot as plt\n",
        "import numpy as np\n",
        "%matplotlib inline\n",
        "\n",
        "plt.scatter(X[:50, 0], X[:50, 1],\n",
        "            color='green', marker='x', label='setosa')\n",
        "plt.scatter(X[50:100, 0], X[50:100, 1],\n",
        "            color='red', marker='o', label='versicolor')\n",
        "\n",
        "plt.xlabel('sepal length')\n",
        "plt.ylabel('petal length')\n",
        "plt.legend(loc='upper right')\n",
        "\n",
        "plt.show()"
      ],
      "execution_count": null,
      "outputs": [
        {
          "output_type": "display_data",
          "data": {
            "image/png": "[encoded data removed]",
            "text/plain": [
              "<Figure size 432x288 with 1 Axes>"
            ]
          },
          "metadata": {
            "tags": [],
            "needs_background": "light"
          }
        }
      ]
    },
    {
      "cell_type": "code",
      "metadata": {
        "id": "z35LqwM3_jao",
        "outputId": "6a40fe5d-f161-42f1-e8a4-7b71f9efdc03",
        "colab": {
          "base_uri": "https://localhost:8080/",
          "height": 279
        }
      },
      "source": [
        "per = Perceptron(learning_rate=0.1, n_iters=10, random_state=1)\n",
        "\n",
        "per.fit(X, y)\n",
        "\n",
        "plt.plot(range(1, len(per.errors_) + 1), per.errors_, marker='o')\n",
        "plt.xlabel('Epochs')\n",
        "plt.ylabel('Number of updates')\n",
        "\n",
        "plt.show()"
      ],
      "execution_count": null,
      "outputs": [
        {
          "output_type": "display_data",
          "data": {
            "image/png": "[encoded data removed]",
            "text/plain": [
              "<Figure size 432x288 with 1 Axes>"
            ]
          },
          "metadata": {
            "tags": [],
            "needs_background": "light"
          }
        }
      ]
    },
    {
      "cell_type": "code",
      "metadata": {
        "id": "OEeK5GFC_feu"
      },
      "source": [
        ""
      ],
      "execution_count": null,
      "outputs": []
    }
  ]
}